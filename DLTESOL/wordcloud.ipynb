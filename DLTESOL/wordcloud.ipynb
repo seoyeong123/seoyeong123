{
  "nbformat": 4,
  "nbformat_minor": 0,
  "metadata": {
    "colab": {
      "private_outputs": true,
      "provenance": [],
      "include_colab_link": true
    },
    "kernelspec": {
      "name": "python3",
      "display_name": "Python 3"
    },
    "language_info": {
      "name": "python"
    }
  },
  "cells": [
    {
      "cell_type": "markdown",
      "metadata": {
        "id": "view-in-github",
        "colab_type": "text"
      },
      "source": [
        "<a href=\"https://colab.research.google.com/github/seoyeong123/seoyeong123/blob/main/DLTESOL/wordcloud.ipynb\" target=\"_parent\"><img src=\"https://colab.research.google.com/assets/colab-badge.svg\" alt=\"Open In Colab\"/></a>"
      ]
    },
    {
      "cell_type": "markdown",
      "source": [
        "# 🌱 Wordcloud with your text"
      ],
      "metadata": {
        "id": "4azpD8zhJF2q"
      }
    },
    {
      "cell_type": "markdown",
      "source": [
        "[1] Package installation"
      ],
      "metadata": {
        "id": "KNjIbkCrNrPm"
      }
    },
    {
      "cell_type": "code",
      "source": [
        "# %%capture 를 install 바로 윗쪽에놓으면 install 숨기기 가능 but 에러 메시지를 못볼 수 있음"
      ],
      "metadata": {
        "id": "XrrmJZebiYqi"
      },
      "execution_count": null,
      "outputs": []
    },
    {
      "cell_type": "code",
      "execution_count": null,
      "metadata": {
        "id": "nrMn895UJDEP"
      },
      "outputs": [],
      "source": [
        "!pip install wordcloud matplotlib"
      ]
    },
    {
      "cell_type": "code",
      "source": [
        "# text = \"your text\"\n",
        "\n",
        "text = \"In the ever-evolving world of technology, the importance of digital literacy cannot be overstated. It is the cornerstone of modern education, enabling learners to navigate and thrive in a digital landscape. At the heart of this digital revolution is coding – a skill that has become essential in various fields. Python, known for its simplicity and versatility, stands out as a preferred language for beginners and experts alike. Teaching Python offers a unique opportunity to blend coding with language learning. This approach not only equips students with technical skills but also enhances their cognitive abilities, akin to learning a new spoken language. The process of learning Python, much like any language, involves understanding syntax, grammar, and vocabulary. However, it extends beyond mere language acquisition; it fosters logical thinking and problem-solving skills. Incorporating Python into educational curriculums revolutionizes the way we think about teaching and learning. It opens doors to innovative teaching methods, where instructors can blend traditional language teaching techniques with the interactive, engaging nature of coding. This synergy enhances digital literacy, preparing students for a future where technology is ubiquitous. Furthermore, language learning principles can be effectively applied to teaching Python. Techniques such as spaced repetition, immersive learning, and contextual usage are not only beneficial in acquiring new languages but are equally effective in mastering programming languages. By integrating these methodologies, educators can create a more holistic and engaging learning experience. In conclusion, the intersection of Python, coding, language learning, teaching, and digital literacy represents a significant shift in educational paradigms. It emphasizes the need for a comprehensive understanding of digital tools and languages, preparing learners for the challenges of a digital future.\""
      ],
      "metadata": {
        "id": "CHIoUOENJKrX"
      },
      "execution_count": null,
      "outputs": []
    },
    {
      "cell_type": "code",
      "source": [
        "from wordcloud import WordCloud\n",
        "import matplotlib.pyplot as plt\n",
        "\n",
        "# Generate word cloud\n",
        "\n",
        "wordcloud = WordCloud(width = 800, height = 800, #크기\n",
        "                      background_color ='white', #색상\n",
        "                      min_font_size = 10).generate(text) #글자 크기 아무리 작아도 10 키우면 더 커짐\n",
        "\n",
        "# Display the word cloud using matplotlib\n",
        "plt.figure(figsize = (8, 8), facecolor = None) # e.g., facecolor = \"gray\"\n",
        "plt.imshow(wordcloud)\n",
        "plt.axis(\"off\")\n",
        "plt.tight_layout(pad = 0)\n",
        "\n",
        "plt.show()"
      ],
      "metadata": {
        "id": "LDFNfDA7JN0h"
      },
      "execution_count": null,
      "outputs": []
    },
    {
      "cell_type": "code",
      "source": [
        "custom_wordcloud = WordCloud(max_font_size=50, max_words=100, background_color=\"gray\").generate(text) #색을 바꾸고 싶을 때 커스텀도 가능 구글에 검색하면 컬러조정가능한 색상도 뜸\n",
        "plt.imshow(custom_wordcloud, interpolation='bilinear')\n",
        "plt.axis('off')\n",
        "plt.show()"
      ],
      "metadata": {
        "id": "nDbjyP58JRMG"
      },
      "execution_count": null,
      "outputs": []
    },
    {
      "cell_type": "markdown",
      "source": [
        "## Circle shape"
      ],
      "metadata": {
        "id": "mltjC3tjl-bh"
      }
    },
    {
      "cell_type": "code",
      "source": [
        "from wordcloud import WordCloud\n",
        "import matplotlib.pyplot as plt\n",
        "import numpy as np\n",
        "from PIL import Image\n",
        "\n",
        "# Create a circular mask\n",
        "x, y = np.ogrid[:800, :800]\n",
        "mask = (x - 400) ** 2 + (y - 400) ** 2 > 400 ** 2\n",
        "mask = 255 * mask.astype(int)\n",
        "\n",
        "# Generate word cloud with the circular mask\n",
        "wordcloud = WordCloud(width=800, height=800,\n",
        "                      background_color='white',\n",
        "                      mask=mask,\n",
        "                      contour_width=0,\n",
        "                      contour_color='steelblue',\n",
        "                      min_font_size=10).generate(text)\n",
        "\n",
        "# Display the word cloud using matplotlib\n",
        "plt.figure(figsize=(8, 8), facecolor=None)\n",
        "plt.imshow(wordcloud, interpolation='bilinear')\n",
        "plt.axis(\"off\")\n",
        "plt.tight_layout(pad=0)\n",
        "\n",
        "plt.show()"
      ],
      "metadata": {
        "id": "RuEGkU1lmApE"
      },
      "execution_count": null,
      "outputs": []
    },
    {
      "cell_type": "markdown",
      "source": [
        "# 🚩 Gradio implemenetation (This doesn't work currently due to a bug in gradio updates)"
      ],
      "metadata": {
        "id": "MnOo9Xz1JnZU"
      }
    },
    {
      "cell_type": "code",
      "source": [
        "!pip install gradio"
      ],
      "metadata": {
        "id": "lqPFI8bsJqdK"
      },
      "execution_count": null,
      "outputs": []
    },
    {
      "cell_type": "markdown",
      "source": [
        "🌲[gradio site](https://www.gradio.app/guides/quickstart)"
      ],
      "metadata": {
        "id": "I2fPYcZCP7OT"
      }
    },
    {
      "cell_type": "code",
      "source": [
        "import gradio as gr\n",
        "from wordcloud import WordCloud\n",
        "import matplotlib.pyplot as plt\n",
        "from PIL import Image\n",
        "#import io\n",
        "\n",
        "def generate_wordcloud(text):\n",
        "    # Create a word cloud\n",
        "    wordcloud = WordCloud(width=800, height=800, background_color='white', min_font_size=10).generate(text)\n",
        "\n",
        "    # Convert word cloud to an image using BytesIO to handle image in memory\n",
        "    plt.figure(figsize=(8, 8), facecolor=None)\n",
        "    plt.imshow(wordcloud)\n",
        "    plt.axis(\"off\")\n",
        "    plt.tight_layout(pad=0)\n",
        "\n",
        "#    buf = io.BytesIO()\n",
        "    plt.savefig(buf, format='png')\n",
        "    plt.close()\n",
        "    buf.seek(0)\n",
        "    image = Image.open(buf)\n",
        "\n",
        "    return image\n",
        "\n",
        "# Create a Gradio interface\n",
        "interface = gr.Interface(fn=generate_wordcloud,\n",
        "                          inputs=\"text\",\n",
        "                          outputs=\"image\")\n",
        "\n",
        "interface.launch(debug=True)\n"
      ],
      "metadata": {
        "id": "VppiVXJoJo6z"
      },
      "execution_count": null,
      "outputs": []
    },
    {
      "cell_type": "markdown",
      "source": [
        "---\n",
        "The end"
      ],
      "metadata": {
        "id": "TVKZw0k1mSeu"
      }
    }
  ]
}